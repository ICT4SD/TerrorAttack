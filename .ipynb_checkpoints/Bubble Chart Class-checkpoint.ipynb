{
 "cells": [
  {
   "cell_type": "markdown",
   "metadata": {},
   "source": [
    "Want to make the Bubble chart a class. So a bubble chart \"object\" has:\n",
    "(1) a dataset\n",
    "(2) a variable for x-axis (and the ability to rename that variable something more descriptive)\n",
    "(3) a variable for y-axis\n",
    "(4) a variable for size of bubble\n",
    "(5) a categorical variable for the color of the bubble (does it have to be categorical? I guess not absolutely)\n",
    "(6) a variable on which to filter (in our example, year) (I think this might be a separate issue)"
   ]
  },
  {
   "cell_type": "code",
   "execution_count": 89,
   "metadata": {
    "collapsed": true
   },
   "outputs": [],
   "source": [
    "#Make nkill = casualty & create a function that renames the columns something prettier & capitalizes it\n",
    "%matplotlib inline"
   ]
  },
  {
   "cell_type": "code",
   "execution_count": 86,
   "metadata": {
    "collapsed": true
   },
   "outputs": [],
   "source": [
    "from __future__ import print_function\n",
    "from ipywidgets import interact, interactive, fixed\n",
    "import ipywidgets as widgets"
   ]
  },
  {
   "cell_type": "code",
   "execution_count": null,
   "metadata": {
    "collapsed": true
   },
   "outputs": [],
   "source": [
    "#def rename_columns(data):\n"
   ]
  },
  {
   "cell_type": "code",
   "execution_count": null,
   "metadata": {
    "collapsed": true
   },
   "outputs": [],
   "source": [
    "#Maybe we want to make a class that has the data and \"data characteristics\" like\n",
    "#what's the name of the country column\n",
    "#what's the name of the attacks column\n",
    "#what's the name of the casualties column\n",
    "#then the functions can be generalizeable to any dataset that has those features."
   ]
  },
  {
   "cell_type": "code",
   "execution_count": 2,
   "metadata": {
    "collapsed": true
   },
   "outputs": [],
   "source": [
    "import pandas as pd\n",
    "import numpy as np\n",
    "\n",
    "gtd = pd.read_csv('C:\\\\Users\\\\Caroline\\\\Documents\\\\School\\\\Programming for Data Science\\\\Term Project\\\\whole_df.csv', low_memory=False, index_col=1).drop(['Unnamed: 0'], axis = 1)\n",
    "\n",
    "bubble_chart = ['iyear', 'country_txt', 'region_txt', 'success', 'nkill']\n",
    "\n",
    "gtd_bubble = gtd[bubble_chart]"
   ]
  },
  {
   "cell_type": "code",
   "execution_count": 3,
   "metadata": {
    "collapsed": false
   },
   "outputs": [],
   "source": [
    "bubble_chart = ['iyear', 'country_txt', 'region_txt', 'success', 'nkill']\n",
    "\n",
    "gtd_bubble = gtd[bubble_chart]"
   ]
  },
  {
   "cell_type": "code",
   "execution_count": 52,
   "metadata": {
    "collapsed": false
   },
   "outputs": [
    {
     "name": "stderr",
     "output_type": "stream",
     "text": [
      "C:\\Users\\Caroline\\Anaconda3\\lib\\site-packages\\numpy\\lib\\function_base.py:3834: RuntimeWarning: Invalid value encountered in percentile\n",
      "  RuntimeWarning)\n"
     ]
    },
    {
     "data": {
      "text/html": [
       "<div>\n",
       "<table border=\"1\" class=\"dataframe\">\n",
       "  <thead>\n",
       "    <tr style=\"text-align: right;\">\n",
       "      <th></th>\n",
       "      <th>iyear</th>\n",
       "      <th>success</th>\n",
       "      <th>nkill</th>\n",
       "    </tr>\n",
       "  </thead>\n",
       "  <tbody>\n",
       "    <tr>\n",
       "      <th>count</th>\n",
       "      <td>156772.000000</td>\n",
       "      <td>156772.000000</td>\n",
       "      <td>147827.000000</td>\n",
       "    </tr>\n",
       "    <tr>\n",
       "      <th>mean</th>\n",
       "      <td>2000.474083</td>\n",
       "      <td>0.903612</td>\n",
       "      <td>2.359237</td>\n",
       "    </tr>\n",
       "    <tr>\n",
       "      <th>std</th>\n",
       "      <td>12.982397</td>\n",
       "      <td>0.295124</td>\n",
       "      <td>11.421270</td>\n",
       "    </tr>\n",
       "    <tr>\n",
       "      <th>min</th>\n",
       "      <td>1970.000000</td>\n",
       "      <td>0.000000</td>\n",
       "      <td>0.000000</td>\n",
       "    </tr>\n",
       "    <tr>\n",
       "      <th>25%</th>\n",
       "      <td>1989.000000</td>\n",
       "      <td>1.000000</td>\n",
       "      <td>NaN</td>\n",
       "    </tr>\n",
       "    <tr>\n",
       "      <th>50%</th>\n",
       "      <td>2005.000000</td>\n",
       "      <td>1.000000</td>\n",
       "      <td>NaN</td>\n",
       "    </tr>\n",
       "    <tr>\n",
       "      <th>75%</th>\n",
       "      <td>2013.000000</td>\n",
       "      <td>1.000000</td>\n",
       "      <td>NaN</td>\n",
       "    </tr>\n",
       "    <tr>\n",
       "      <th>max</th>\n",
       "      <td>2015.000000</td>\n",
       "      <td>1.000000</td>\n",
       "      <td>1500.000000</td>\n",
       "    </tr>\n",
       "  </tbody>\n",
       "</table>\n",
       "</div>"
      ],
      "text/plain": [
       "               iyear        success          nkill\n",
       "count  156772.000000  156772.000000  147827.000000\n",
       "mean     2000.474083       0.903612       2.359237\n",
       "std        12.982397       0.295124      11.421270\n",
       "min      1970.000000       0.000000       0.000000\n",
       "25%      1989.000000       1.000000            NaN\n",
       "50%      2005.000000       1.000000            NaN\n",
       "75%      2013.000000       1.000000            NaN\n",
       "max      2015.000000       1.000000    1500.000000"
      ]
     },
     "execution_count": 52,
     "metadata": {},
     "output_type": "execute_result"
    }
   ],
   "source": [
    "gtd_bubble.describe()"
   ]
  },
  {
   "cell_type": "code",
   "execution_count": 58,
   "metadata": {
    "collapsed": false
   },
   "outputs": [],
   "source": [
    "#also seems generally useful, not specific to bubble chart\n",
    "\n",
    "#change to use Viola's make_five_year_range (add 5 to hers)\n",
    "\n",
    "#Need to change this so 2015 is on its own\n",
    "def group_years(years, num_years): #two methods that take 2 vars\n",
    "    '''Turns years into groups of 5'''\n",
    "    bins = np.arange(min(years) - num_years, max(years) + num_years, num_years)\n",
    "    categories = pd.cut(years, bins)\n",
    "    categories.name = 'Year Ranges'\n",
    "    return categories"
   ]
  },
  {
   "cell_type": "code",
   "execution_count": 59,
   "metadata": {
    "collapsed": false
   },
   "outputs": [
    {
     "ename": "NameError",
     "evalue": "name 'iyear' is not defined",
     "output_type": "error",
     "traceback": [
      "\u001b[0;31m---------------------------------------------------------------------------\u001b[0m",
      "\u001b[0;31mNameError\u001b[0m                                 Traceback (most recent call last)",
      "\u001b[0;32m<ipython-input-59-63742f01b4ea>\u001b[0m in \u001b[0;36m<module>\u001b[0;34m()\u001b[0m\n\u001b[0;32m----> 1\u001b[0;31m \u001b[0mgroup_years\u001b[0m\u001b[1;33m(\u001b[0m\u001b[0mgtd_bubble\u001b[0m\u001b[1;33m[\u001b[0m\u001b[0miyear\u001b[0m\u001b[1;33m]\u001b[0m\u001b[1;33m,\u001b[0m \u001b[1;36m5\u001b[0m\u001b[1;33m)\u001b[0m\u001b[1;33m\u001b[0m\u001b[0m\n\u001b[0m",
      "\u001b[0;31mNameError\u001b[0m: name 'iyear' is not defined"
     ]
    }
   ],
   "source": [
    "group_years(gtd_bubble['iyear'], 5)"
   ]
  },
  {
   "cell_type": "code",
   "execution_count": 5,
   "metadata": {
    "collapsed": false
   },
   "outputs": [
    {
     "data": {
      "text/html": [
       "<div>\n",
       "<table border=\"1\" class=\"dataframe\">\n",
       "  <thead>\n",
       "    <tr style=\"text-align: right;\">\n",
       "      <th></th>\n",
       "      <th>iyear</th>\n",
       "      <th>country_txt</th>\n",
       "      <th>region_txt</th>\n",
       "      <th>success</th>\n",
       "      <th>nkill</th>\n",
       "    </tr>\n",
       "    <tr>\n",
       "      <th>eventid</th>\n",
       "      <th></th>\n",
       "      <th></th>\n",
       "      <th></th>\n",
       "      <th></th>\n",
       "      <th></th>\n",
       "    </tr>\n",
       "  </thead>\n",
       "  <tbody>\n",
       "    <tr>\n",
       "      <th>197000000001</th>\n",
       "      <td>1970</td>\n",
       "      <td>Dominican Republic</td>\n",
       "      <td>Central America &amp; Caribbean</td>\n",
       "      <td>1</td>\n",
       "      <td>1.0</td>\n",
       "    </tr>\n",
       "    <tr>\n",
       "      <th>197000000002</th>\n",
       "      <td>1970</td>\n",
       "      <td>Mexico</td>\n",
       "      <td>North America</td>\n",
       "      <td>1</td>\n",
       "      <td>0.0</td>\n",
       "    </tr>\n",
       "    <tr>\n",
       "      <th>197001000001</th>\n",
       "      <td>1970</td>\n",
       "      <td>Philippines</td>\n",
       "      <td>Southeast Asia</td>\n",
       "      <td>1</td>\n",
       "      <td>1.0</td>\n",
       "    </tr>\n",
       "    <tr>\n",
       "      <th>197001000002</th>\n",
       "      <td>1970</td>\n",
       "      <td>Greece</td>\n",
       "      <td>Western Europe</td>\n",
       "      <td>1</td>\n",
       "      <td>NaN</td>\n",
       "    </tr>\n",
       "    <tr>\n",
       "      <th>197001000003</th>\n",
       "      <td>1970</td>\n",
       "      <td>Japan</td>\n",
       "      <td>East Asia</td>\n",
       "      <td>1</td>\n",
       "      <td>NaN</td>\n",
       "    </tr>\n",
       "  </tbody>\n",
       "</table>\n",
       "</div>"
      ],
      "text/plain": [
       "              iyear         country_txt                   region_txt  success  \\\n",
       "eventid                                                                         \n",
       "197000000001   1970  Dominican Republic  Central America & Caribbean        1   \n",
       "197000000002   1970              Mexico                North America        1   \n",
       "197001000001   1970         Philippines               Southeast Asia        1   \n",
       "197001000002   1970              Greece               Western Europe        1   \n",
       "197001000003   1970               Japan                    East Asia        1   \n",
       "\n",
       "              nkill  \n",
       "eventid              \n",
       "197000000001    1.0  \n",
       "197000000002    0.0  \n",
       "197001000001    1.0  \n",
       "197001000002    NaN  \n",
       "197001000003    NaN  "
      ]
     },
     "execution_count": 5,
     "metadata": {},
     "output_type": "execute_result"
    }
   ],
   "source": [
    "year_ranges = group_years(gtd_bubble['iyear'], 5)\n",
    "\n",
    "def replace_years_with_range(df, data, years):\n",
    "    '''Removes year column and merges range column'''\n",
    "    year_ranges = group_years(data, years)\n",
    "    data_replaced = pd.concat([gtd_bubble, pd.DataFrame(year_ranges)], axis = 1).drop(data.name, 1) #change this to be general\n",
    "    return data_replaced\n",
    "\n",
    "gtd_bubble.head()"
   ]
  },
  {
   "cell_type": "code",
   "execution_count": 6,
   "metadata": {
    "collapsed": false
   },
   "outputs": [
    {
     "data": {
      "text/html": [
       "<div>\n",
       "<table border=\"1\" class=\"dataframe\">\n",
       "  <thead>\n",
       "    <tr style=\"text-align: right;\">\n",
       "      <th></th>\n",
       "      <th>country_txt</th>\n",
       "      <th>region_txt</th>\n",
       "      <th>success</th>\n",
       "      <th>nkill</th>\n",
       "      <th>Year Ranges</th>\n",
       "    </tr>\n",
       "    <tr>\n",
       "      <th>eventid</th>\n",
       "      <th></th>\n",
       "      <th></th>\n",
       "      <th></th>\n",
       "      <th></th>\n",
       "      <th></th>\n",
       "    </tr>\n",
       "  </thead>\n",
       "  <tbody>\n",
       "    <tr>\n",
       "      <th>197000000001</th>\n",
       "      <td>Dominican Republic</td>\n",
       "      <td>Central America &amp; Caribbean</td>\n",
       "      <td>1</td>\n",
       "      <td>1.0</td>\n",
       "      <td>(1965, 1970]</td>\n",
       "    </tr>\n",
       "    <tr>\n",
       "      <th>197000000002</th>\n",
       "      <td>Mexico</td>\n",
       "      <td>North America</td>\n",
       "      <td>1</td>\n",
       "      <td>0.0</td>\n",
       "      <td>(1965, 1970]</td>\n",
       "    </tr>\n",
       "    <tr>\n",
       "      <th>197001000001</th>\n",
       "      <td>Philippines</td>\n",
       "      <td>Southeast Asia</td>\n",
       "      <td>1</td>\n",
       "      <td>1.0</td>\n",
       "      <td>(1965, 1970]</td>\n",
       "    </tr>\n",
       "    <tr>\n",
       "      <th>197001000002</th>\n",
       "      <td>Greece</td>\n",
       "      <td>Western Europe</td>\n",
       "      <td>1</td>\n",
       "      <td>NaN</td>\n",
       "      <td>(1965, 1970]</td>\n",
       "    </tr>\n",
       "    <tr>\n",
       "      <th>197001000003</th>\n",
       "      <td>Japan</td>\n",
       "      <td>East Asia</td>\n",
       "      <td>1</td>\n",
       "      <td>NaN</td>\n",
       "      <td>(1965, 1970]</td>\n",
       "    </tr>\n",
       "  </tbody>\n",
       "</table>\n",
       "</div>"
      ],
      "text/plain": [
       "                     country_txt                   region_txt  success  nkill  \\\n",
       "eventid                                                                         \n",
       "197000000001  Dominican Republic  Central America & Caribbean        1    1.0   \n",
       "197000000002              Mexico                North America        1    0.0   \n",
       "197001000001         Philippines               Southeast Asia        1    1.0   \n",
       "197001000002              Greece               Western Europe        1    NaN   \n",
       "197001000003               Japan                    East Asia        1    NaN   \n",
       "\n",
       "               Year Ranges  \n",
       "eventid                     \n",
       "197000000001  (1965, 1970]  \n",
       "197000000002  (1965, 1970]  \n",
       "197001000001  (1965, 1970]  \n",
       "197001000002  (1965, 1970]  \n",
       "197001000003  (1965, 1970]  "
      ]
     },
     "execution_count": 6,
     "metadata": {},
     "output_type": "execute_result"
    }
   ],
   "source": [
    "gtd_bubble = replace_years_with_range(gtd_bubble['iyear'], 5)\n",
    "gtd_bubble.head()"
   ]
  },
  {
   "cell_type": "code",
   "execution_count": null,
   "metadata": {
    "collapsed": true
   },
   "outputs": [],
   "source": [
    "#Right now we group by the year range, but is there any reason we can't take the events that occurred in the year range\n",
    "#and then group by country?\n",
    "\n",
    "#I guess the reason I like it is then we deal with time all at once\n",
    "\n",
    "#But the weird thing is this graph ought to be able to show any time range, and if it has to start over from the beginning\n",
    "#I don't know how well that's going to work out"
   ]
  },
  {
   "cell_type": "code",
   "execution_count": 63,
   "metadata": {
    "collapsed": false
   },
   "outputs": [
    {
     "data": {
      "text/html": [
       "<div>\n",
       "<table border=\"1\" class=\"dataframe\">\n",
       "  <thead>\n",
       "    <tr style=\"text-align: right;\">\n",
       "      <th></th>\n",
       "      <th>country_txt</th>\n",
       "      <th>region_txt</th>\n",
       "      <th>success</th>\n",
       "      <th>nkill</th>\n",
       "      <th>Year Ranges</th>\n",
       "    </tr>\n",
       "    <tr>\n",
       "      <th>eventid</th>\n",
       "      <th></th>\n",
       "      <th></th>\n",
       "      <th></th>\n",
       "      <th></th>\n",
       "      <th></th>\n",
       "    </tr>\n",
       "  </thead>\n",
       "  <tbody>\n",
       "    <tr>\n",
       "      <th>197000000001</th>\n",
       "      <td>Dominican Republic</td>\n",
       "      <td>Central America &amp; Caribbean</td>\n",
       "      <td>1</td>\n",
       "      <td>1.0</td>\n",
       "      <td>(1965, 1970]</td>\n",
       "    </tr>\n",
       "    <tr>\n",
       "      <th>197000000002</th>\n",
       "      <td>Mexico</td>\n",
       "      <td>North America</td>\n",
       "      <td>1</td>\n",
       "      <td>0.0</td>\n",
       "      <td>(1965, 1970]</td>\n",
       "    </tr>\n",
       "    <tr>\n",
       "      <th>197001000001</th>\n",
       "      <td>Philippines</td>\n",
       "      <td>Southeast Asia</td>\n",
       "      <td>1</td>\n",
       "      <td>1.0</td>\n",
       "      <td>(1965, 1970]</td>\n",
       "    </tr>\n",
       "    <tr>\n",
       "      <th>197001000002</th>\n",
       "      <td>Greece</td>\n",
       "      <td>Western Europe</td>\n",
       "      <td>1</td>\n",
       "      <td>0.0</td>\n",
       "      <td>(1965, 1970]</td>\n",
       "    </tr>\n",
       "    <tr>\n",
       "      <th>197001000003</th>\n",
       "      <td>Japan</td>\n",
       "      <td>East Asia</td>\n",
       "      <td>1</td>\n",
       "      <td>0.0</td>\n",
       "      <td>(1965, 1970]</td>\n",
       "    </tr>\n",
       "  </tbody>\n",
       "</table>\n",
       "</div>"
      ],
      "text/plain": [
       "                     country_txt                   region_txt  success  nkill  \\\n",
       "eventid                                                                         \n",
       "197000000001  Dominican Republic  Central America & Caribbean        1    1.0   \n",
       "197000000002              Mexico                North America        1    0.0   \n",
       "197001000001         Philippines               Southeast Asia        1    1.0   \n",
       "197001000002              Greece               Western Europe        1    0.0   \n",
       "197001000003               Japan                    East Asia        1    0.0   \n",
       "\n",
       "               Year Ranges  \n",
       "eventid                     \n",
       "197000000001  (1965, 1970]  \n",
       "197000000002  (1965, 1970]  \n",
       "197001000001  (1965, 1970]  \n",
       "197001000002  (1965, 1970]  \n",
       "197001000003  (1965, 1970]  "
      ]
     },
     "execution_count": 63,
     "metadata": {},
     "output_type": "execute_result"
    }
   ],
   "source": [
    "gtd_bubble.head()"
   ]
  },
  {
   "cell_type": "code",
   "execution_count": 74,
   "metadata": {
    "collapsed": false
   },
   "outputs": [
    {
     "data": {
      "text/plain": [
       "pandas.core.series.Series"
      ]
     },
     "execution_count": 74,
     "metadata": {},
     "output_type": "execute_result"
    }
   ],
   "source": [
    "data = gtd_bubble\n",
    "bubble_id = 'country_txt'\n",
    "color = 'region_txt'\n",
    "user_filter = 'Year Ranges'\n",
    "\n",
    "data = data.loc[:,[bubble_id, color, user_filter]]\n",
    "data['count'] = 1\n",
    "\n",
    "type(pd.pivot_table(data, values='count', index=[bubble_id, color, user_filter], aggfunc=sum).dropna())"
   ]
  },
  {
   "cell_type": "code",
   "execution_count": 27,
   "metadata": {
    "collapsed": false
   },
   "outputs": [],
   "source": [
    "class Bubble_Chart_Data():\n",
    "    def __init__(self, data, bubble_id, color, user_filter):\n",
    "        '''Defines attributes of the bubble chart'''\n",
    "        self.data = data\n",
    "        self.bubble_id = bubble_id\n",
    "        self.color = color\n",
    "        self.user_filter = user_filter\n",
    "        self.agg_by_bubbleID = False\n",
    "        self.bubble_size = 10 #initializes all the bubbles to the same size\n",
    "    \n",
    "    def count_by_bubbleID(self):\n",
    "        '''Creates a count by bubble ID'''\n",
    "        #this function has to be run first, need to reorder things to ensure this happens, do it in init function\n",
    "        self.new_data = self.data.loc[:,[self.bubble_id, self.color, self.user_filter]]\n",
    "        self.new_data['count'] = 1\n",
    "        self.new_data = pd.pivot_table(self.new_data, values='count', index=[self.bubble_id, self.color, self.user_filter], aggfunc=sum).dropna()\n",
    "        self.new_data = pd.DataFrame(self.new_data)\n",
    "        self.new_data.reset_index(level=self.color, inplace=True)\n",
    "        \n",
    "    def sum_by_bubbleID(self, to_sum):\n",
    "        '''Takes a column name and creates a sum '''\n",
    "        #maybe allow you to specify which column, since we only want to do this for nkill\n",
    "        index = [self.bubble_id, self.color, self.user_filter]\n",
    "        summed = pd.pivot_table(self.data, values=to_sum, index=index, aggfunc=sum).dropna()\n",
    "        summed = pd.DataFrame(summed)\n",
    "        summed.reset_index(level=self.color, drop=True, inplace=True)\n",
    "        self.new_data = summed.join(self.new_data, how='inner')\n",
    "    \n",
    "    def filter_for_user(self, user_input):\n",
    "        '''Selects the part of the data that the user selected'''\n",
    "        self.new_data = self.new_data.loc[(slice(None), user_input), :] \n",
    "    \n",
    "    def set_bubble_size(self, bubble_size):\n",
    "        '''bubble size must be a series with the bubble_id as the index'''\n",
    "        #currently assume that you've already run filter_for_user, but I think we can solve this\n",
    "        #by requiring the indexes to line up well\n",
    "        self.new_data = pd.DataFrame(bubble_size).join(self.new_data, how='inner')\n",
    "        self.bubble_size = bubble_size.columns[0] #currently assumes 1 column\n",
    "        \n",
    "    def add_color_dict(self):\n",
    "        '''Creates a dictionary that maps the color variable to numbers'''\n",
    "        #http://stackoverflow.com/questions/14885895/color-by-column-values-in-matplotlib\n",
    "        color_cats = self.data[self.color].unique()\n",
    "        colors = np.linspace(0, 1, len(color_cats))\n",
    "        colordict = dict(zip(color_cats, colors))  \n",
    "        self.new_data['color'] = self.new_data[self.color].apply(lambda x: colordict[x])\n",
    "        \n",
    "    #define a function that merges a bubble size and changes the self.bubble_size variable"
   ]
  },
  {
   "cell_type": "code",
   "execution_count": 105,
   "metadata": {
    "collapsed": false
   },
   "outputs": [],
   "source": [
    "bubble_chart = Bubble_Chart_Data(gtd_bubble, 'country_txt', 'region_txt', 'Year Ranges')"
   ]
  },
  {
   "cell_type": "code",
   "execution_count": 106,
   "metadata": {
    "collapsed": true
   },
   "outputs": [],
   "source": [
    "bubble_chart.count_by_bubbleID()"
   ]
  },
  {
   "cell_type": "code",
   "execution_count": 107,
   "metadata": {
    "collapsed": false
   },
   "outputs": [],
   "source": [
    "bubble_chart.sum_by_bubbleID('nkill')"
   ]
  },
  {
   "cell_type": "code",
   "execution_count": 108,
   "metadata": {
    "collapsed": false
   },
   "outputs": [
    {
     "data": {
      "text/html": [
       "<div>\n",
       "<table border=\"1\" class=\"dataframe\">\n",
       "  <thead>\n",
       "    <tr style=\"text-align: right;\">\n",
       "      <th></th>\n",
       "      <th></th>\n",
       "      <th>nkill</th>\n",
       "      <th>region_txt</th>\n",
       "      <th>count</th>\n",
       "    </tr>\n",
       "    <tr>\n",
       "      <th>country_txt</th>\n",
       "      <th>Year Ranges</th>\n",
       "      <th></th>\n",
       "      <th></th>\n",
       "      <th></th>\n",
       "    </tr>\n",
       "  </thead>\n",
       "  <tbody>\n",
       "    <tr>\n",
       "      <th rowspan=\"5\" valign=\"top\">Afghanistan</th>\n",
       "      <th>(1970, 1975]</th>\n",
       "      <td>0.0</td>\n",
       "      <td>South Asia</td>\n",
       "      <td>1.0</td>\n",
       "    </tr>\n",
       "    <tr>\n",
       "      <th>(1975, 1980]</th>\n",
       "      <td>53.0</td>\n",
       "      <td>South Asia</td>\n",
       "      <td>3.0</td>\n",
       "    </tr>\n",
       "    <tr>\n",
       "      <th>(1985, 1990]</th>\n",
       "      <td>150.0</td>\n",
       "      <td>South Asia</td>\n",
       "      <td>24.0</td>\n",
       "    </tr>\n",
       "    <tr>\n",
       "      <th>(1990, 1995]</th>\n",
       "      <td>144.0</td>\n",
       "      <td>South Asia</td>\n",
       "      <td>81.0</td>\n",
       "    </tr>\n",
       "    <tr>\n",
       "      <th>(1995, 2000]</th>\n",
       "      <td>120.0</td>\n",
       "      <td>South Asia</td>\n",
       "      <td>29.0</td>\n",
       "    </tr>\n",
       "  </tbody>\n",
       "</table>\n",
       "</div>"
      ],
      "text/plain": [
       "                          nkill  region_txt  count\n",
       "country_txt Year Ranges                           \n",
       "Afghanistan (1970, 1975]    0.0  South Asia    1.0\n",
       "            (1975, 1980]   53.0  South Asia    3.0\n",
       "            (1985, 1990]  150.0  South Asia   24.0\n",
       "            (1990, 1995]  144.0  South Asia   81.0\n",
       "            (1995, 2000]  120.0  South Asia   29.0"
      ]
     },
     "execution_count": 108,
     "metadata": {},
     "output_type": "execute_result"
    }
   ],
   "source": [
    "bubble_chart.new_data.head()"
   ]
  },
  {
   "cell_type": "code",
   "execution_count": 109,
   "metadata": {
    "collapsed": true
   },
   "outputs": [],
   "source": [
    "def create_counts(data, group_by_column, column_to_count):\n",
    "    '''Takes a column name and counts rows by that column'''\n",
    "    data = data.loc[:,[group_by_column, column_to_count]].fillna(value = 1) #counts all, not just non-null\n",
    "    grouped = data.groupby(group_by_column)\n",
    "    return grouped.count()"
   ]
  },
  {
   "cell_type": "code",
   "execution_count": 110,
   "metadata": {
    "collapsed": false
   },
   "outputs": [
    {
     "data": {
      "text/html": [
       "<div>\n",
       "<table border=\"1\" class=\"dataframe\">\n",
       "  <thead>\n",
       "    <tr style=\"text-align: right;\">\n",
       "      <th></th>\n",
       "      <th>success</th>\n",
       "    </tr>\n",
       "    <tr>\n",
       "      <th>country_txt</th>\n",
       "      <th></th>\n",
       "    </tr>\n",
       "  </thead>\n",
       "  <tbody>\n",
       "    <tr>\n",
       "      <th>Afghanistan</th>\n",
       "      <td>9690</td>\n",
       "    </tr>\n",
       "    <tr>\n",
       "      <th>Albania</th>\n",
       "      <td>77</td>\n",
       "    </tr>\n",
       "    <tr>\n",
       "      <th>Algeria</th>\n",
       "      <td>2720</td>\n",
       "    </tr>\n",
       "    <tr>\n",
       "      <th>Andorra</th>\n",
       "      <td>1</td>\n",
       "    </tr>\n",
       "    <tr>\n",
       "      <th>Angola</th>\n",
       "      <td>491</td>\n",
       "    </tr>\n",
       "  </tbody>\n",
       "</table>\n",
       "</div>"
      ],
      "text/plain": [
       "             success\n",
       "country_txt         \n",
       "Afghanistan     9690\n",
       "Albania           77\n",
       "Algeria         2720\n",
       "Andorra            1\n",
       "Angola           491"
      ]
     },
     "execution_count": 110,
     "metadata": {},
     "output_type": "execute_result"
    }
   ],
   "source": [
    "total_attacks = create_counts(gtd_bubble, 'country_txt', 'success')\n",
    "total_attacks.head()"
   ]
  },
  {
   "cell_type": "code",
   "execution_count": 118,
   "metadata": {
    "collapsed": false
   },
   "outputs": [
    {
     "data": {
      "text/html": [
       "<div>\n",
       "<table border=\"1\" class=\"dataframe\">\n",
       "  <thead>\n",
       "    <tr style=\"text-align: right;\">\n",
       "      <th></th>\n",
       "      <th></th>\n",
       "      <th>success</th>\n",
       "      <th>nkill</th>\n",
       "      <th>region_txt</th>\n",
       "      <th>count</th>\n",
       "      <th>color</th>\n",
       "    </tr>\n",
       "    <tr>\n",
       "      <th>country_txt</th>\n",
       "      <th>Year Ranges</th>\n",
       "      <th></th>\n",
       "      <th></th>\n",
       "      <th></th>\n",
       "      <th></th>\n",
       "      <th></th>\n",
       "    </tr>\n",
       "  </thead>\n",
       "  <tbody>\n",
       "    <tr>\n",
       "      <th>Afghanistan</th>\n",
       "      <th>(2010, 2015]</th>\n",
       "      <td>9690</td>\n",
       "      <td>20359.0</td>\n",
       "      <td>South Asia</td>\n",
       "      <td>7077.0</td>\n",
       "      <td>0.909091</td>\n",
       "    </tr>\n",
       "    <tr>\n",
       "      <th>Albania</th>\n",
       "      <th>(2010, 2015]</th>\n",
       "      <td>77</td>\n",
       "      <td>1.0</td>\n",
       "      <td>Eastern Europe</td>\n",
       "      <td>7.0</td>\n",
       "      <td>0.545455</td>\n",
       "    </tr>\n",
       "    <tr>\n",
       "      <th>Algeria</th>\n",
       "      <th>(2010, 2015]</th>\n",
       "      <td>2720</td>\n",
       "      <td>214.0</td>\n",
       "      <td>Middle East &amp; North Africa</td>\n",
       "      <td>107.0</td>\n",
       "      <td>0.727273</td>\n",
       "    </tr>\n",
       "    <tr>\n",
       "      <th>Argentina</th>\n",
       "      <th>(2010, 2015]</th>\n",
       "      <td>804</td>\n",
       "      <td>0.0</td>\n",
       "      <td>South America</td>\n",
       "      <td>6.0</td>\n",
       "      <td>0.454545</td>\n",
       "    </tr>\n",
       "    <tr>\n",
       "      <th>Armenia</th>\n",
       "      <th>(2010, 2015]</th>\n",
       "      <td>22</td>\n",
       "      <td>0.0</td>\n",
       "      <td>Central Asia</td>\n",
       "      <td>3.0</td>\n",
       "      <td>1.000000</td>\n",
       "    </tr>\n",
       "  </tbody>\n",
       "</table>\n",
       "</div>"
      ],
      "text/plain": [
       "                          success    nkill                  region_txt  \\\n",
       "country_txt Year Ranges                                                  \n",
       "Afghanistan (2010, 2015]     9690  20359.0                  South Asia   \n",
       "Albania     (2010, 2015]       77      1.0              Eastern Europe   \n",
       "Algeria     (2010, 2015]     2720    214.0  Middle East & North Africa   \n",
       "Argentina   (2010, 2015]      804      0.0               South America   \n",
       "Armenia     (2010, 2015]       22      0.0                Central Asia   \n",
       "\n",
       "                           count     color  \n",
       "country_txt Year Ranges                     \n",
       "Afghanistan (2010, 2015]  7077.0  0.909091  \n",
       "Albania     (2010, 2015]     7.0  0.545455  \n",
       "Algeria     (2010, 2015]   107.0  0.727273  \n",
       "Argentina   (2010, 2015]     6.0  0.454545  \n",
       "Armenia     (2010, 2015]     3.0  1.000000  "
      ]
     },
     "execution_count": 118,
     "metadata": {},
     "output_type": "execute_result"
    }
   ],
   "source": [
    "bubble_chart.new_data.head()"
   ]
  },
  {
   "cell_type": "code",
   "execution_count": 117,
   "metadata": {
    "collapsed": false,
    "scrolled": true
   },
   "outputs": [
    {
     "ename": "ValueError",
     "evalue": "columns overlap but no suffix specified: Index(['success'], dtype='object')",
     "output_type": "error",
     "traceback": [
      "\u001b[0;31m---------------------------------------------------------------------------\u001b[0m",
      "\u001b[0;31mValueError\u001b[0m                                Traceback (most recent call last)",
      "\u001b[0;32m<ipython-input-117-92461d5f92de>\u001b[0m in \u001b[0;36m<module>\u001b[0;34m()\u001b[0m\n\u001b[0;32m----> 1\u001b[0;31m \u001b[0mbubble_chart\u001b[0m\u001b[1;33m.\u001b[0m\u001b[0mset_bubble_size\u001b[0m\u001b[1;33m(\u001b[0m\u001b[0mtotal_attacks\u001b[0m\u001b[1;33m)\u001b[0m\u001b[1;33m\u001b[0m\u001b[0m\n\u001b[0m\u001b[1;32m      2\u001b[0m \u001b[0mbubble_chart\u001b[0m\u001b[1;33m.\u001b[0m\u001b[0mnew_data\u001b[0m\u001b[1;33m.\u001b[0m\u001b[0mhead\u001b[0m\u001b[1;33m(\u001b[0m\u001b[1;33m)\u001b[0m\u001b[1;33m\u001b[0m\u001b[0m\n",
      "\u001b[0;32m<ipython-input-27-63f675745432>\u001b[0m in \u001b[0;36mset_bubble_size\u001b[0;34m(self, bubble_size)\u001b[0m\n\u001b[1;32m     35\u001b[0m         \u001b[1;31m#currently assume that you've already run filter_for_user, but I think we can solve this\u001b[0m\u001b[1;33m\u001b[0m\u001b[1;33m\u001b[0m\u001b[0m\n\u001b[1;32m     36\u001b[0m         \u001b[1;31m#by requiring the indexes to line up well\u001b[0m\u001b[1;33m\u001b[0m\u001b[1;33m\u001b[0m\u001b[0m\n\u001b[0;32m---> 37\u001b[0;31m         \u001b[0mself\u001b[0m\u001b[1;33m.\u001b[0m\u001b[0mnew_data\u001b[0m \u001b[1;33m=\u001b[0m \u001b[0mpd\u001b[0m\u001b[1;33m.\u001b[0m\u001b[0mDataFrame\u001b[0m\u001b[1;33m(\u001b[0m\u001b[0mbubble_size\u001b[0m\u001b[1;33m)\u001b[0m\u001b[1;33m.\u001b[0m\u001b[0mjoin\u001b[0m\u001b[1;33m(\u001b[0m\u001b[0mself\u001b[0m\u001b[1;33m.\u001b[0m\u001b[0mnew_data\u001b[0m\u001b[1;33m,\u001b[0m \u001b[0mhow\u001b[0m\u001b[1;33m=\u001b[0m\u001b[1;34m'inner'\u001b[0m\u001b[1;33m)\u001b[0m\u001b[1;33m\u001b[0m\u001b[0m\n\u001b[0m\u001b[1;32m     38\u001b[0m         \u001b[0mself\u001b[0m\u001b[1;33m.\u001b[0m\u001b[0mbubble_size\u001b[0m \u001b[1;33m=\u001b[0m \u001b[0mbubble_size\u001b[0m\u001b[1;33m.\u001b[0m\u001b[0mcolumns\u001b[0m\u001b[1;33m[\u001b[0m\u001b[1;36m0\u001b[0m\u001b[1;33m]\u001b[0m \u001b[1;31m#currently assumes 1 column\u001b[0m\u001b[1;33m\u001b[0m\u001b[0m\n\u001b[1;32m     39\u001b[0m \u001b[1;33m\u001b[0m\u001b[0m\n",
      "\u001b[0;32mC:\\Users\\Caroline\\Anaconda3\\lib\\site-packages\\pandas\\core\\frame.py\u001b[0m in \u001b[0;36mjoin\u001b[0;34m(self, other, on, how, lsuffix, rsuffix, sort)\u001b[0m\n\u001b[1;32m   4383\u001b[0m         \u001b[1;31m# For SparseDataFrame's benefit\u001b[0m\u001b[1;33m\u001b[0m\u001b[1;33m\u001b[0m\u001b[0m\n\u001b[1;32m   4384\u001b[0m         return self._join_compat(other, on=on, how=how, lsuffix=lsuffix,\n\u001b[0;32m-> 4385\u001b[0;31m                                  rsuffix=rsuffix, sort=sort)\n\u001b[0m\u001b[1;32m   4386\u001b[0m \u001b[1;33m\u001b[0m\u001b[0m\n\u001b[1;32m   4387\u001b[0m     def _join_compat(self, other, on=None, how='left', lsuffix='', rsuffix='',\n",
      "\u001b[0;32mC:\\Users\\Caroline\\Anaconda3\\lib\\site-packages\\pandas\\core\\frame.py\u001b[0m in \u001b[0;36m_join_compat\u001b[0;34m(self, other, on, how, lsuffix, rsuffix, sort)\u001b[0m\n\u001b[1;32m   4397\u001b[0m             return merge(self, other, left_on=on, how=how,\n\u001b[1;32m   4398\u001b[0m                          \u001b[0mleft_index\u001b[0m\u001b[1;33m=\u001b[0m\u001b[0mon\u001b[0m \u001b[1;32mis\u001b[0m \u001b[1;32mNone\u001b[0m\u001b[1;33m,\u001b[0m \u001b[0mright_index\u001b[0m\u001b[1;33m=\u001b[0m\u001b[1;32mTrue\u001b[0m\u001b[1;33m,\u001b[0m\u001b[1;33m\u001b[0m\u001b[0m\n\u001b[0;32m-> 4399\u001b[0;31m                          suffixes=(lsuffix, rsuffix), sort=sort)\n\u001b[0m\u001b[1;32m   4400\u001b[0m         \u001b[1;32melse\u001b[0m\u001b[1;33m:\u001b[0m\u001b[1;33m\u001b[0m\u001b[0m\n\u001b[1;32m   4401\u001b[0m             \u001b[1;32mif\u001b[0m \u001b[0mon\u001b[0m \u001b[1;32mis\u001b[0m \u001b[1;32mnot\u001b[0m \u001b[1;32mNone\u001b[0m\u001b[1;33m:\u001b[0m\u001b[1;33m\u001b[0m\u001b[0m\n",
      "\u001b[0;32mC:\\Users\\Caroline\\Anaconda3\\lib\\site-packages\\pandas\\tools\\merge.py\u001b[0m in \u001b[0;36mmerge\u001b[0;34m(left, right, how, on, left_on, right_on, left_index, right_index, sort, suffixes, copy, indicator)\u001b[0m\n\u001b[1;32m     37\u001b[0m                          \u001b[0mright_index\u001b[0m\u001b[1;33m=\u001b[0m\u001b[0mright_index\u001b[0m\u001b[1;33m,\u001b[0m \u001b[0msort\u001b[0m\u001b[1;33m=\u001b[0m\u001b[0msort\u001b[0m\u001b[1;33m,\u001b[0m \u001b[0msuffixes\u001b[0m\u001b[1;33m=\u001b[0m\u001b[0msuffixes\u001b[0m\u001b[1;33m,\u001b[0m\u001b[1;33m\u001b[0m\u001b[0m\n\u001b[1;32m     38\u001b[0m                          copy=copy, indicator=indicator)\n\u001b[0;32m---> 39\u001b[0;31m     \u001b[1;32mreturn\u001b[0m \u001b[0mop\u001b[0m\u001b[1;33m.\u001b[0m\u001b[0mget_result\u001b[0m\u001b[1;33m(\u001b[0m\u001b[1;33m)\u001b[0m\u001b[1;33m\u001b[0m\u001b[0m\n\u001b[0m\u001b[1;32m     40\u001b[0m \u001b[1;32mif\u001b[0m \u001b[0m__debug__\u001b[0m\u001b[1;33m:\u001b[0m\u001b[1;33m\u001b[0m\u001b[0m\n\u001b[1;32m     41\u001b[0m     \u001b[0mmerge\u001b[0m\u001b[1;33m.\u001b[0m\u001b[0m__doc__\u001b[0m \u001b[1;33m=\u001b[0m \u001b[0m_merge_doc\u001b[0m \u001b[1;33m%\u001b[0m \u001b[1;34m'\\nleft : DataFrame'\u001b[0m\u001b[1;33m\u001b[0m\u001b[0m\n",
      "\u001b[0;32mC:\\Users\\Caroline\\Anaconda3\\lib\\site-packages\\pandas\\tools\\merge.py\u001b[0m in \u001b[0;36mget_result\u001b[0;34m(self)\u001b[0m\n\u001b[1;32m    221\u001b[0m \u001b[1;33m\u001b[0m\u001b[0m\n\u001b[1;32m    222\u001b[0m         llabels, rlabels = items_overlap_with_suffix(ldata.items, lsuf,\n\u001b[0;32m--> 223\u001b[0;31m                                                      rdata.items, rsuf)\n\u001b[0m\u001b[1;32m    224\u001b[0m \u001b[1;33m\u001b[0m\u001b[0m\n\u001b[1;32m    225\u001b[0m         \u001b[0mlindexers\u001b[0m \u001b[1;33m=\u001b[0m \u001b[1;33m{\u001b[0m\u001b[1;36m1\u001b[0m\u001b[1;33m:\u001b[0m \u001b[0mleft_indexer\u001b[0m\u001b[1;33m}\u001b[0m \u001b[1;32mif\u001b[0m \u001b[0mleft_indexer\u001b[0m \u001b[1;32mis\u001b[0m \u001b[1;32mnot\u001b[0m \u001b[1;32mNone\u001b[0m \u001b[1;32melse\u001b[0m \u001b[1;33m{\u001b[0m\u001b[1;33m}\u001b[0m\u001b[1;33m\u001b[0m\u001b[0m\n",
      "\u001b[0;32mC:\\Users\\Caroline\\Anaconda3\\lib\\site-packages\\pandas\\core\\internals.py\u001b[0m in \u001b[0;36mitems_overlap_with_suffix\u001b[0;34m(left, lsuffix, right, rsuffix)\u001b[0m\n\u001b[1;32m   4443\u001b[0m         \u001b[1;32mif\u001b[0m \u001b[1;32mnot\u001b[0m \u001b[0mlsuffix\u001b[0m \u001b[1;32mand\u001b[0m \u001b[1;32mnot\u001b[0m \u001b[0mrsuffix\u001b[0m\u001b[1;33m:\u001b[0m\u001b[1;33m\u001b[0m\u001b[0m\n\u001b[1;32m   4444\u001b[0m             raise ValueError('columns overlap but no suffix specified: %s' %\n\u001b[0;32m-> 4445\u001b[0;31m                              to_rename)\n\u001b[0m\u001b[1;32m   4446\u001b[0m \u001b[1;33m\u001b[0m\u001b[0m\n\u001b[1;32m   4447\u001b[0m         \u001b[1;32mdef\u001b[0m \u001b[0mlrenamer\u001b[0m\u001b[1;33m(\u001b[0m\u001b[0mx\u001b[0m\u001b[1;33m)\u001b[0m\u001b[1;33m:\u001b[0m\u001b[1;33m\u001b[0m\u001b[0m\n",
      "\u001b[0;31mValueError\u001b[0m: columns overlap but no suffix specified: Index(['success'], dtype='object')"
     ]
    }
   ],
   "source": [
    "bubble_chart.set_bubble_size(total_attacks)\n",
    "bubble_chart.new_data.head()"
   ]
  },
  {
   "cell_type": "code",
   "execution_count": 112,
   "metadata": {
    "collapsed": false
   },
   "outputs": [
    {
     "data": {
      "text/html": [
       "<div>\n",
       "<table border=\"1\" class=\"dataframe\">\n",
       "  <thead>\n",
       "    <tr style=\"text-align: right;\">\n",
       "      <th></th>\n",
       "      <th></th>\n",
       "      <th>success</th>\n",
       "      <th>nkill</th>\n",
       "      <th>region_txt</th>\n",
       "      <th>count</th>\n",
       "      <th>color</th>\n",
       "    </tr>\n",
       "    <tr>\n",
       "      <th>country_txt</th>\n",
       "      <th>Year Ranges</th>\n",
       "      <th></th>\n",
       "      <th></th>\n",
       "      <th></th>\n",
       "      <th></th>\n",
       "      <th></th>\n",
       "    </tr>\n",
       "  </thead>\n",
       "  <tbody>\n",
       "    <tr>\n",
       "      <th rowspan=\"5\" valign=\"top\">Afghanistan</th>\n",
       "      <th>(1970, 1975]</th>\n",
       "      <td>9690</td>\n",
       "      <td>0.0</td>\n",
       "      <td>South Asia</td>\n",
       "      <td>1.0</td>\n",
       "      <td>0.909091</td>\n",
       "    </tr>\n",
       "    <tr>\n",
       "      <th>(1975, 1980]</th>\n",
       "      <td>9690</td>\n",
       "      <td>53.0</td>\n",
       "      <td>South Asia</td>\n",
       "      <td>3.0</td>\n",
       "      <td>0.909091</td>\n",
       "    </tr>\n",
       "    <tr>\n",
       "      <th>(1985, 1990]</th>\n",
       "      <td>9690</td>\n",
       "      <td>150.0</td>\n",
       "      <td>South Asia</td>\n",
       "      <td>24.0</td>\n",
       "      <td>0.909091</td>\n",
       "    </tr>\n",
       "    <tr>\n",
       "      <th>(1990, 1995]</th>\n",
       "      <td>9690</td>\n",
       "      <td>144.0</td>\n",
       "      <td>South Asia</td>\n",
       "      <td>81.0</td>\n",
       "      <td>0.909091</td>\n",
       "    </tr>\n",
       "    <tr>\n",
       "      <th>(1995, 2000]</th>\n",
       "      <td>9690</td>\n",
       "      <td>120.0</td>\n",
       "      <td>South Asia</td>\n",
       "      <td>29.0</td>\n",
       "      <td>0.909091</td>\n",
       "    </tr>\n",
       "  </tbody>\n",
       "</table>\n",
       "</div>"
      ],
      "text/plain": [
       "                          success  nkill  region_txt  count     color\n",
       "country_txt Year Ranges                                              \n",
       "Afghanistan (1970, 1975]     9690    0.0  South Asia    1.0  0.909091\n",
       "            (1975, 1980]     9690   53.0  South Asia    3.0  0.909091\n",
       "            (1985, 1990]     9690  150.0  South Asia   24.0  0.909091\n",
       "            (1990, 1995]     9690  144.0  South Asia   81.0  0.909091\n",
       "            (1995, 2000]     9690  120.0  South Asia   29.0  0.909091"
      ]
     },
     "execution_count": 112,
     "metadata": {},
     "output_type": "execute_result"
    }
   ],
   "source": [
    "bubble_chart.add_color_dict()\n",
    "bubble_chart.new_data.head()"
   ]
  },
  {
   "cell_type": "code",
   "execution_count": 113,
   "metadata": {
    "collapsed": false
   },
   "outputs": [
    {
     "data": {
      "text/html": [
       "<div>\n",
       "<table border=\"1\" class=\"dataframe\">\n",
       "  <thead>\n",
       "    <tr style=\"text-align: right;\">\n",
       "      <th></th>\n",
       "      <th></th>\n",
       "      <th>success</th>\n",
       "      <th>nkill</th>\n",
       "      <th>region_txt</th>\n",
       "      <th>count</th>\n",
       "      <th>color</th>\n",
       "    </tr>\n",
       "    <tr>\n",
       "      <th>country_txt</th>\n",
       "      <th>Year Ranges</th>\n",
       "      <th></th>\n",
       "      <th></th>\n",
       "      <th></th>\n",
       "      <th></th>\n",
       "      <th></th>\n",
       "    </tr>\n",
       "  </thead>\n",
       "  <tbody>\n",
       "    <tr>\n",
       "      <th>Afghanistan</th>\n",
       "      <th>(2010, 2015]</th>\n",
       "      <td>9690</td>\n",
       "      <td>20359.0</td>\n",
       "      <td>South Asia</td>\n",
       "      <td>7077.0</td>\n",
       "      <td>0.909091</td>\n",
       "    </tr>\n",
       "    <tr>\n",
       "      <th>Albania</th>\n",
       "      <th>(2010, 2015]</th>\n",
       "      <td>77</td>\n",
       "      <td>1.0</td>\n",
       "      <td>Eastern Europe</td>\n",
       "      <td>7.0</td>\n",
       "      <td>0.545455</td>\n",
       "    </tr>\n",
       "    <tr>\n",
       "      <th>Algeria</th>\n",
       "      <th>(2010, 2015]</th>\n",
       "      <td>2720</td>\n",
       "      <td>214.0</td>\n",
       "      <td>Middle East &amp; North Africa</td>\n",
       "      <td>107.0</td>\n",
       "      <td>0.727273</td>\n",
       "    </tr>\n",
       "    <tr>\n",
       "      <th>Argentina</th>\n",
       "      <th>(2010, 2015]</th>\n",
       "      <td>804</td>\n",
       "      <td>0.0</td>\n",
       "      <td>South America</td>\n",
       "      <td>6.0</td>\n",
       "      <td>0.454545</td>\n",
       "    </tr>\n",
       "    <tr>\n",
       "      <th>Armenia</th>\n",
       "      <th>(2010, 2015]</th>\n",
       "      <td>22</td>\n",
       "      <td>0.0</td>\n",
       "      <td>Central Asia</td>\n",
       "      <td>3.0</td>\n",
       "      <td>1.000000</td>\n",
       "    </tr>\n",
       "  </tbody>\n",
       "</table>\n",
       "</div>"
      ],
      "text/plain": [
       "                          success    nkill                  region_txt  \\\n",
       "country_txt Year Ranges                                                  \n",
       "Afghanistan (2010, 2015]     9690  20359.0                  South Asia   \n",
       "Albania     (2010, 2015]       77      1.0              Eastern Europe   \n",
       "Algeria     (2010, 2015]     2720    214.0  Middle East & North Africa   \n",
       "Argentina   (2010, 2015]      804      0.0               South America   \n",
       "Armenia     (2010, 2015]       22      0.0                Central Asia   \n",
       "\n",
       "                           count     color  \n",
       "country_txt Year Ranges                     \n",
       "Afghanistan (2010, 2015]  7077.0  0.909091  \n",
       "Albania     (2010, 2015]     7.0  0.545455  \n",
       "Algeria     (2010, 2015]   107.0  0.727273  \n",
       "Argentina   (2010, 2015]     6.0  0.454545  \n",
       "Armenia     (2010, 2015]     3.0  1.000000  "
      ]
     },
     "execution_count": 113,
     "metadata": {},
     "output_type": "execute_result"
    }
   ],
   "source": [
    "bubble_chart.filter_for_user('(2010, 2015]')\n",
    "bubble_chart.new_data.head()"
   ]
  },
  {
   "cell_type": "code",
   "execution_count": 90,
   "metadata": {
    "collapsed": false
   },
   "outputs": [],
   "source": [
    "#need to add a legend & axis labels & format axis\n",
    "\n",
    "import matplotlib.pyplot as plt\n",
    "\n",
    "def create_bubble_chart(user_input):\n",
    "\n",
    "    fig = plt.figure()\n",
    "\n",
    "    plt.scatter(bubble_chart.new_data['count'], bubble_chart.new_data['nkill'],bubble_chart.new_data['success']/10, c = bubble_chart.new_data['color'], alpha = 0.5)\n",
    "\n",
    "    plt.title('Testing User Input: ' + str(user_input))\n",
    "    plt.show()\n",
    "#show(mpl.to_bokeh(fig))"
   ]
  },
  {
   "cell_type": "code",
   "execution_count": 125,
   "metadata": {
    "collapsed": false
   },
   "outputs": [],
   "source": [
    "def process_bubble_chart_data():\n",
    "    bubble_chart = Bubble_Chart_Data(gtd_bubble, 'country_txt', 'region_txt', 'Year Ranges')\n",
    "    bubble_chart.count_by_bubbleID()\n",
    "    bubble_chart.sum_by_bubbleID('nkill')\n",
    "    total_attacks = create_counts(gtd_bubble, 'country_txt', 'success')\n",
    "    bubble_chart.set_bubble_size(total_attacks)\n",
    "    bubble_chart.add_color_dict()\n",
    "    return bubble_chart\n",
    "    \n",
    "def select_bubble_chart_year(year_range, bubble_chart):\n",
    "    bubble_chart.filter_for_user(year_range)\n",
    "    return bubble_chart\n"
   ]
  },
  {
   "cell_type": "code",
   "execution_count": 127,
   "metadata": {
    "collapsed": false
   },
   "outputs": [
    {
     "data": {
      "text/html": [
       "<div>\n",
       "<table border=\"1\" class=\"dataframe\">\n",
       "  <thead>\n",
       "    <tr style=\"text-align: right;\">\n",
       "      <th></th>\n",
       "      <th></th>\n",
       "      <th>success</th>\n",
       "      <th>nkill</th>\n",
       "      <th>region_txt</th>\n",
       "      <th>count</th>\n",
       "      <th>color</th>\n",
       "    </tr>\n",
       "    <tr>\n",
       "      <th>country_txt</th>\n",
       "      <th>Year Ranges</th>\n",
       "      <th></th>\n",
       "      <th></th>\n",
       "      <th></th>\n",
       "      <th></th>\n",
       "      <th></th>\n",
       "    </tr>\n",
       "  </thead>\n",
       "  <tbody>\n",
       "    <tr>\n",
       "      <th>Afghanistan</th>\n",
       "      <th>(2010, 2015]</th>\n",
       "      <td>9690</td>\n",
       "      <td>20359.0</td>\n",
       "      <td>South Asia</td>\n",
       "      <td>7077.0</td>\n",
       "      <td>0.909091</td>\n",
       "    </tr>\n",
       "    <tr>\n",
       "      <th>Albania</th>\n",
       "      <th>(2010, 2015]</th>\n",
       "      <td>77</td>\n",
       "      <td>1.0</td>\n",
       "      <td>Eastern Europe</td>\n",
       "      <td>7.0</td>\n",
       "      <td>0.545455</td>\n",
       "    </tr>\n",
       "    <tr>\n",
       "      <th>Algeria</th>\n",
       "      <th>(2010, 2015]</th>\n",
       "      <td>2720</td>\n",
       "      <td>214.0</td>\n",
       "      <td>Middle East &amp; North Africa</td>\n",
       "      <td>107.0</td>\n",
       "      <td>0.727273</td>\n",
       "    </tr>\n",
       "    <tr>\n",
       "      <th>Argentina</th>\n",
       "      <th>(2010, 2015]</th>\n",
       "      <td>804</td>\n",
       "      <td>0.0</td>\n",
       "      <td>South America</td>\n",
       "      <td>6.0</td>\n",
       "      <td>0.454545</td>\n",
       "    </tr>\n",
       "    <tr>\n",
       "      <th>Armenia</th>\n",
       "      <th>(2010, 2015]</th>\n",
       "      <td>22</td>\n",
       "      <td>0.0</td>\n",
       "      <td>Central Asia</td>\n",
       "      <td>3.0</td>\n",
       "      <td>1.000000</td>\n",
       "    </tr>\n",
       "  </tbody>\n",
       "</table>\n",
       "</div>"
      ],
      "text/plain": [
       "                          success    nkill                  region_txt  \\\n",
       "country_txt Year Ranges                                                  \n",
       "Afghanistan (2010, 2015]     9690  20359.0                  South Asia   \n",
       "Albania     (2010, 2015]       77      1.0              Eastern Europe   \n",
       "Algeria     (2010, 2015]     2720    214.0  Middle East & North Africa   \n",
       "Argentina   (2010, 2015]      804      0.0               South America   \n",
       "Armenia     (2010, 2015]       22      0.0                Central Asia   \n",
       "\n",
       "                           count     color  \n",
       "country_txt Year Ranges                     \n",
       "Afghanistan (2010, 2015]  7077.0  0.909091  \n",
       "Albania     (2010, 2015]     7.0  0.545455  \n",
       "Algeria     (2010, 2015]   107.0  0.727273  \n",
       "Argentina   (2010, 2015]     6.0  0.454545  \n",
       "Armenia     (2010, 2015]     3.0  1.000000  "
      ]
     },
     "execution_count": 127,
     "metadata": {},
     "output_type": "execute_result"
    }
   ],
   "source": [
    "bubble_chart = process_bubble_chart_data()\n",
    "\n",
    "bubble_chart = select_bubble_chart_year('(2010, 2015]', bubble_chart)\n",
    "\n",
    "bubble_chart.new_data.head()"
   ]
  },
  {
   "cell_type": "code",
   "execution_count": 141,
   "metadata": {
    "collapsed": false
   },
   "outputs": [],
   "source": [
    "def construct_interval(year):\n",
    "    return '('+ str(year - 5) + ', ' + str(year) + ']'"
   ]
  },
  {
   "cell_type": "code",
   "execution_count": 145,
   "metadata": {
    "collapsed": false
   },
   "outputs": [
    {
     "data": {
      "text/plain": [
       "'(2010, 2015]'"
      ]
     },
     "execution_count": 145,
     "metadata": {},
     "output_type": "execute_result"
    }
   ],
   "source": [
    "construct_interval(2015)"
   ]
  },
  {
   "cell_type": "code",
   "execution_count": 170,
   "metadata": {
    "collapsed": true
   },
   "outputs": [],
   "source": [
    "#bubble_chart = process_bubble_chart_data()\n",
    "\n",
    "def create_bubble_chart(year):\n",
    "    \n",
    "    bubble_chart = process_bubble_chart_data()\n",
    "    \n",
    "    select_bubble_chart_year(construct_interval(year), bubble_chart)\n",
    "\n",
    "    fig = plt.figure()\n",
    "\n",
    "    plt.scatter(bubble_chart.new_data['count'], bubble_chart.new_data['nkill'],bubble_chart.new_data['success']/10, c = bubble_chart.new_data['color'], alpha = 0.5)\n",
    "\n",
    "    plt.show()"
   ]
  },
  {
   "cell_type": "code",
   "execution_count": 173,
   "metadata": {
    "collapsed": false
   },
   "outputs": [
    {
     "data": {
      "image/png": "[encoded data removed]",
      "text/plain": [
       "<matplotlib.figure.Figure at 0x1ca8df3f2b0>"
      ]
     },
     "metadata": {},
     "output_type": "display_data"
    }
   ],
   "source": [
    "create_bubble_chart(2005)"
   ]
  },
  {
   "cell_type": "code",
   "execution_count": 175,
   "metadata": {
    "collapsed": false
   },
   "outputs": [
    {
     "data": {
      "image/png": "[encoded data removed]",
      "text/plain": [
       "<matplotlib.figure.Figure at 0x1ca8a603b38>"
      ]
     },
     "metadata": {},
     "output_type": "display_data"
    }
   ],
   "source": [
    "interact(create_bubble_chart, year=widgets.IntSlider(min=1975,max=2015,step=5,value=2015))"
   ]
  },
  {
   "cell_type": "code",
   "execution_count": null,
   "metadata": {
    "collapsed": true
   },
   "outputs": [],
   "source": [
    "#http://stackoverflow.com/questions/35315259/using-colormap-with-bokeh-scatter"
   ]
  },
  {
   "cell_type": "markdown",
   "metadata": {},
   "source": [
    "Also considered doing a bubble chart where the x axis is percentage change in # killed, y axis is percentage change in # attacks, and size of bubble is # incidents"
   ]
  },
  {
   "cell_type": "markdown",
   "metadata": {},
   "source": [
    "Next step might be scroll-over labels, b/c I think that would be really helpful"
   ]
  },
  {
   "cell_type": "code",
   "execution_count": 101,
   "metadata": {
    "collapsed": true
   },
   "outputs": [],
   "source": [
    "#this is useful in general, don't make it specific to bubble chart\n",
    "def create_total(to_sum, sum_by):\n",
    "    '''takes two series of the same length, sums one by the other, returns a series with the result'''\n",
    "    data = pd.concat([sum_by, to_sum], axis = 1)\n",
    "    totaled = pd.pivot_table(data, index = sum_by.name, aggfunc=sum)\n",
    "    totaled.columns = ['total ' + to_sum.name]\n",
    "    return pd.Series(totaled['total ' + to_sum.name])"
   ]
  }
 ],
 "metadata": {
  "anaconda-cloud": {},
  "kernelspec": {
   "display_name": "Python [Root]",
   "language": "python",
   "name": "Python [Root]"
  },
  "language_info": {
   "codemirror_mode": {
    "name": "ipython",
    "version": 3
   },
   "file_extension": ".py",
   "mimetype": "text/x-python",
   "name": "python",
   "nbconvert_exporter": "python",
   "pygments_lexer": "ipython3",
   "version": "3.5.2"
  }
 },
 "nbformat": 4,
 "nbformat_minor": 0
}
