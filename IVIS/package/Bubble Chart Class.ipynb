{
 "cells": [
  {
   "cell_type": "code",
   "execution_count": 1,
   "metadata": {
    "collapsed": true
   },
   "outputs": [],
   "source": [
    "%matplotlib inline\n",
    "from __future__ import print_function\n",
    "from ipywidgets import interact, interactive, fixed\n",
    "import ipywidgets as widgets\n",
    "import pandas as pd\n",
    "import numpy as np\n",
    "import heatmap as hm\n",
    "import matplotlib.pyplot as plt"
   ]
  },
  {
   "cell_type": "code",
   "execution_count": 2,
   "metadata": {
    "collapsed": false
   },
   "outputs": [
    {
     "data": {
      "text/html": [
       "<div>\n",
       "<table border=\"1\" class=\"dataframe\">\n",
       "  <thead>\n",
       "    <tr style=\"text-align: right;\">\n",
       "      <th></th>\n",
       "      <th>eventid</th>\n",
       "      <th>year</th>\n",
       "      <th>country</th>\n",
       "      <th>region</th>\n",
       "      <th>latitude</th>\n",
       "      <th>longitude</th>\n",
       "      <th>attacktype</th>\n",
       "      <th>casualties</th>\n",
       "      <th>wounds</th>\n",
       "    </tr>\n",
       "  </thead>\n",
       "  <tbody>\n",
       "    <tr>\n",
       "      <th>0</th>\n",
       "      <td>197000000001</td>\n",
       "      <td>1970</td>\n",
       "      <td>Dominican Republic</td>\n",
       "      <td>Central America &amp; Caribbean</td>\n",
       "      <td>18.456792</td>\n",
       "      <td>-69.951164</td>\n",
       "      <td>Assassination</td>\n",
       "      <td>1.0</td>\n",
       "      <td>0.0</td>\n",
       "    </tr>\n",
       "    <tr>\n",
       "      <th>1</th>\n",
       "      <td>197000000002</td>\n",
       "      <td>1970</td>\n",
       "      <td>Mexico</td>\n",
       "      <td>North America</td>\n",
       "      <td>19.432608</td>\n",
       "      <td>-99.133207</td>\n",
       "      <td>Hostage Taking (Kidnapping)</td>\n",
       "      <td>0.0</td>\n",
       "      <td>0.0</td>\n",
       "    </tr>\n",
       "    <tr>\n",
       "      <th>2</th>\n",
       "      <td>197001000001</td>\n",
       "      <td>1970</td>\n",
       "      <td>Philippines</td>\n",
       "      <td>Southeast Asia</td>\n",
       "      <td>15.478598</td>\n",
       "      <td>120.599741</td>\n",
       "      <td>Assassination</td>\n",
       "      <td>1.0</td>\n",
       "      <td>0.0</td>\n",
       "    </tr>\n",
       "    <tr>\n",
       "      <th>3</th>\n",
       "      <td>197001000002</td>\n",
       "      <td>1970</td>\n",
       "      <td>Greece</td>\n",
       "      <td>Western Europe</td>\n",
       "      <td>37.983773</td>\n",
       "      <td>23.728157</td>\n",
       "      <td>Bombing/Explosion</td>\n",
       "      <td>NaN</td>\n",
       "      <td>NaN</td>\n",
       "    </tr>\n",
       "    <tr>\n",
       "      <th>4</th>\n",
       "      <td>197001000003</td>\n",
       "      <td>1970</td>\n",
       "      <td>Japan</td>\n",
       "      <td>East Asia</td>\n",
       "      <td>33.580412</td>\n",
       "      <td>130.396361</td>\n",
       "      <td>Facility/Infrastructure Attack</td>\n",
       "      <td>NaN</td>\n",
       "      <td>NaN</td>\n",
       "    </tr>\n",
       "  </tbody>\n",
       "</table>\n",
       "</div>"
      ],
      "text/plain": [
       "        eventid  year             country                       region  \\\n",
       "0  197000000001  1970  Dominican Republic  Central America & Caribbean   \n",
       "1  197000000002  1970              Mexico                North America   \n",
       "2  197001000001  1970         Philippines               Southeast Asia   \n",
       "3  197001000002  1970              Greece               Western Europe   \n",
       "4  197001000003  1970               Japan                    East Asia   \n",
       "\n",
       "    latitude   longitude                      attacktype  casualties  wounds  \n",
       "0  18.456792  -69.951164                   Assassination         1.0     0.0  \n",
       "1  19.432608  -99.133207     Hostage Taking (Kidnapping)         0.0     0.0  \n",
       "2  15.478598  120.599741                   Assassination         1.0     0.0  \n",
       "3  37.983773   23.728157               Bombing/Explosion         NaN     NaN  \n",
       "4  33.580412  130.396361  Facility/Infrastructure Attack         NaN     NaN  "
      ]
     },
     "execution_count": 2,
     "metadata": {},
     "output_type": "execute_result"
    }
   ],
   "source": [
    "ivis = hm.IVIS()\n",
    "ivis.gt_df.head()"
   ]
  },
  {
   "cell_type": "code",
   "execution_count": 3,
   "metadata": {
    "collapsed": true
   },
   "outputs": [],
   "source": [
    "#kind of similar to what I have in the dot plot notebook - \n",
    "#do I want to make this a function?"
   ]
  },
  {
   "cell_type": "code",
   "execution_count": 4,
   "metadata": {
    "collapsed": false
   },
   "outputs": [
    {
     "name": "stderr",
     "output_type": "stream",
     "text": [
      "C:\\Users\\Caroline\\Anaconda3\\lib\\site-packages\\numpy\\lib\\function_base.py:3834: RuntimeWarning: Invalid value encountered in percentile\n",
      "  RuntimeWarning)\n"
     ]
    },
    {
     "data": {
      "text/html": [
       "<div>\n",
       "<table border=\"1\" class=\"dataframe\">\n",
       "  <thead>\n",
       "    <tr style=\"text-align: right;\">\n",
       "      <th></th>\n",
       "      <th>eventid</th>\n",
       "      <th>year</th>\n",
       "      <th>latitude</th>\n",
       "      <th>longitude</th>\n",
       "      <th>casualties</th>\n",
       "      <th>wounds</th>\n",
       "    </tr>\n",
       "  </thead>\n",
       "  <tbody>\n",
       "    <tr>\n",
       "      <th>count</th>\n",
       "      <td>1.567720e+05</td>\n",
       "      <td>156772.000000</td>\n",
       "      <td>152253.000000</td>\n",
       "      <td>152253.000000</td>\n",
       "      <td>147827.000000</td>\n",
       "      <td>142572.000000</td>\n",
       "    </tr>\n",
       "    <tr>\n",
       "      <th>mean</th>\n",
       "      <td>2.000541e+11</td>\n",
       "      <td>2000.474083</td>\n",
       "      <td>23.190988</td>\n",
       "      <td>24.210467</td>\n",
       "      <td>2.359237</td>\n",
       "      <td>3.089926</td>\n",
       "    </tr>\n",
       "    <tr>\n",
       "      <th>std</th>\n",
       "      <td>1.298283e+09</td>\n",
       "      <td>12.982397</td>\n",
       "      <td>19.220723</td>\n",
       "      <td>59.900831</td>\n",
       "      <td>11.421270</td>\n",
       "      <td>22.722313</td>\n",
       "    </tr>\n",
       "    <tr>\n",
       "      <th>min</th>\n",
       "      <td>1.970000e+11</td>\n",
       "      <td>1970.000000</td>\n",
       "      <td>-53.154613</td>\n",
       "      <td>-176.176447</td>\n",
       "      <td>0.000000</td>\n",
       "      <td>0.000000</td>\n",
       "    </tr>\n",
       "    <tr>\n",
       "      <th>25%</th>\n",
       "      <td>1.989082e+11</td>\n",
       "      <td>1989.000000</td>\n",
       "      <td>NaN</td>\n",
       "      <td>NaN</td>\n",
       "      <td>NaN</td>\n",
       "      <td>NaN</td>\n",
       "    </tr>\n",
       "    <tr>\n",
       "      <th>50%</th>\n",
       "      <td>2.005071e+11</td>\n",
       "      <td>2005.000000</td>\n",
       "      <td>NaN</td>\n",
       "      <td>NaN</td>\n",
       "      <td>NaN</td>\n",
       "      <td>NaN</td>\n",
       "    </tr>\n",
       "    <tr>\n",
       "      <th>75%</th>\n",
       "      <td>2.013060e+11</td>\n",
       "      <td>2013.000000</td>\n",
       "      <td>NaN</td>\n",
       "      <td>NaN</td>\n",
       "      <td>NaN</td>\n",
       "      <td>NaN</td>\n",
       "    </tr>\n",
       "    <tr>\n",
       "      <th>max</th>\n",
       "      <td>2.015123e+11</td>\n",
       "      <td>2015.000000</td>\n",
       "      <td>74.633553</td>\n",
       "      <td>179.366667</td>\n",
       "      <td>1500.000000</td>\n",
       "      <td>5500.000000</td>\n",
       "    </tr>\n",
       "  </tbody>\n",
       "</table>\n",
       "</div>"
      ],
      "text/plain": [
       "            eventid           year       latitude      longitude  \\\n",
       "count  1.567720e+05  156772.000000  152253.000000  152253.000000   \n",
       "mean   2.000541e+11    2000.474083      23.190988      24.210467   \n",
       "std    1.298283e+09      12.982397      19.220723      59.900831   \n",
       "min    1.970000e+11    1970.000000     -53.154613    -176.176447   \n",
       "25%    1.989082e+11    1989.000000            NaN            NaN   \n",
       "50%    2.005071e+11    2005.000000            NaN            NaN   \n",
       "75%    2.013060e+11    2013.000000            NaN            NaN   \n",
       "max    2.015123e+11    2015.000000      74.633553     179.366667   \n",
       "\n",
       "          casualties         wounds  \n",
       "count  147827.000000  142572.000000  \n",
       "mean        2.359237       3.089926  \n",
       "std        11.421270      22.722313  \n",
       "min         0.000000       0.000000  \n",
       "25%              NaN            NaN  \n",
       "50%              NaN            NaN  \n",
       "75%              NaN            NaN  \n",
       "max      1500.000000    5500.000000  "
      ]
     },
     "execution_count": 4,
     "metadata": {},
     "output_type": "execute_result"
    }
   ],
   "source": [
    "ivis.gt_df.describe()"
   ]
  },
  {
   "cell_type": "code",
   "execution_count": 5,
   "metadata": {
    "collapsed": false
   },
   "outputs": [],
   "source": [
    "bubble_chart_features = ['year', 'country', 'region', 'casualties']\n",
    "\n",
    "gtd_bubble = ivis.gt_df[bubble_chart_features]"
   ]
  },
  {
   "cell_type": "code",
   "execution_count": 6,
   "metadata": {
    "collapsed": false
   },
   "outputs": [
    {
     "name": "stderr",
     "output_type": "stream",
     "text": [
      "C:\\Users\\Caroline\\Anaconda3\\lib\\site-packages\\numpy\\lib\\function_base.py:3834: RuntimeWarning: Invalid value encountered in percentile\n",
      "  RuntimeWarning)\n"
     ]
    },
    {
     "data": {
      "text/html": [
       "<div>\n",
       "<table border=\"1\" class=\"dataframe\">\n",
       "  <thead>\n",
       "    <tr style=\"text-align: right;\">\n",
       "      <th></th>\n",
       "      <th>year</th>\n",
       "      <th>casualties</th>\n",
       "    </tr>\n",
       "  </thead>\n",
       "  <tbody>\n",
       "    <tr>\n",
       "      <th>count</th>\n",
       "      <td>156772.000000</td>\n",
       "      <td>147827.000000</td>\n",
       "    </tr>\n",
       "    <tr>\n",
       "      <th>mean</th>\n",
       "      <td>2000.474083</td>\n",
       "      <td>2.359237</td>\n",
       "    </tr>\n",
       "    <tr>\n",
       "      <th>std</th>\n",
       "      <td>12.982397</td>\n",
       "      <td>11.421270</td>\n",
       "    </tr>\n",
       "    <tr>\n",
       "      <th>min</th>\n",
       "      <td>1970.000000</td>\n",
       "      <td>0.000000</td>\n",
       "    </tr>\n",
       "    <tr>\n",
       "      <th>25%</th>\n",
       "      <td>1989.000000</td>\n",
       "      <td>NaN</td>\n",
       "    </tr>\n",
       "    <tr>\n",
       "      <th>50%</th>\n",
       "      <td>2005.000000</td>\n",
       "      <td>NaN</td>\n",
       "    </tr>\n",
       "    <tr>\n",
       "      <th>75%</th>\n",
       "      <td>2013.000000</td>\n",
       "      <td>NaN</td>\n",
       "    </tr>\n",
       "    <tr>\n",
       "      <th>max</th>\n",
       "      <td>2015.000000</td>\n",
       "      <td>1500.000000</td>\n",
       "    </tr>\n",
       "  </tbody>\n",
       "</table>\n",
       "</div>"
      ],
      "text/plain": [
       "                year     casualties\n",
       "count  156772.000000  147827.000000\n",
       "mean     2000.474083       2.359237\n",
       "std        12.982397      11.421270\n",
       "min      1970.000000       0.000000\n",
       "25%      1989.000000            NaN\n",
       "50%      2005.000000            NaN\n",
       "75%      2013.000000            NaN\n",
       "max      2015.000000    1500.000000"
      ]
     },
     "execution_count": 6,
     "metadata": {},
     "output_type": "execute_result"
    }
   ],
   "source": [
    "gtd_bubble.describe()"
   ]
  },
  {
   "cell_type": "code",
   "execution_count": 7,
   "metadata": {
    "collapsed": false
   },
   "outputs": [],
   "source": [
    "#change to use Viola's make_five_year_range (add 5 to hers)?\n",
    "\n",
    "def create_range(series_to_group, group_size):\n",
    "    '''Turns a series into groups of a specified size'''\n",
    "    bins = np.arange(min(series_to_group) - group_size, max(series_to_group) + group_size, group_size)\n",
    "    ranges = pd.cut(series_to_group, bins)\n",
    "    ranges.name = series_to_group.name + ' ranges'\n",
    "    return ranges"
   ]
  },
  {
   "cell_type": "code",
   "execution_count": 9,
   "metadata": {
    "collapsed": false
   },
   "outputs": [
    {
     "data": {
      "text/html": [
       "<div>\n",
       "<table border=\"1\" class=\"dataframe\">\n",
       "  <thead>\n",
       "    <tr style=\"text-align: right;\">\n",
       "      <th></th>\n",
       "      <th>year</th>\n",
       "      <th>country</th>\n",
       "      <th>region</th>\n",
       "      <th>casualties</th>\n",
       "    </tr>\n",
       "  </thead>\n",
       "  <tbody>\n",
       "    <tr>\n",
       "      <th>0</th>\n",
       "      <td>1970</td>\n",
       "      <td>Dominican Republic</td>\n",
       "      <td>Central America &amp; Caribbean</td>\n",
       "      <td>1.0</td>\n",
       "    </tr>\n",
       "    <tr>\n",
       "      <th>1</th>\n",
       "      <td>1970</td>\n",
       "      <td>Mexico</td>\n",
       "      <td>North America</td>\n",
       "      <td>0.0</td>\n",
       "    </tr>\n",
       "    <tr>\n",
       "      <th>2</th>\n",
       "      <td>1970</td>\n",
       "      <td>Philippines</td>\n",
       "      <td>Southeast Asia</td>\n",
       "      <td>1.0</td>\n",
       "    </tr>\n",
       "    <tr>\n",
       "      <th>3</th>\n",
       "      <td>1970</td>\n",
       "      <td>Greece</td>\n",
       "      <td>Western Europe</td>\n",
       "      <td>NaN</td>\n",
       "    </tr>\n",
       "    <tr>\n",
       "      <th>4</th>\n",
       "      <td>1970</td>\n",
       "      <td>Japan</td>\n",
       "      <td>East Asia</td>\n",
       "      <td>NaN</td>\n",
       "    </tr>\n",
       "  </tbody>\n",
       "</table>\n",
       "</div>"
      ],
      "text/plain": [
       "   year             country                       region  casualties\n",
       "0  1970  Dominican Republic  Central America & Caribbean         1.0\n",
       "1  1970              Mexico                North America         0.0\n",
       "2  1970         Philippines               Southeast Asia         1.0\n",
       "3  1970              Greece               Western Europe         NaN\n",
       "4  1970               Japan                    East Asia         NaN"
      ]
     },
     "execution_count": 9,
     "metadata": {},
     "output_type": "execute_result"
    }
   ],
   "source": [
    "def replace_series_with_range(data, series_to_group, group_size):\n",
    "    '''Removes year column and merges range column'''\n",
    "    ranges = create_range(series_to_group, group_size)\n",
    "    data_replaced = pd.concat([data, pd.DataFrame(ranges)], axis = 1).drop(series_to_group.name, 1)\n",
    "    return data_replaced\n",
    "\n",
    "gtd_bubble.head()"
   ]
  },
  {
   "cell_type": "code",
   "execution_count": 10,
   "metadata": {
    "collapsed": false
   },
   "outputs": [
    {
     "data": {
      "text/html": [
       "<div>\n",
       "<table border=\"1\" class=\"dataframe\">\n",
       "  <thead>\n",
       "    <tr style=\"text-align: right;\">\n",
       "      <th></th>\n",
       "      <th>country</th>\n",
       "      <th>region</th>\n",
       "      <th>casualties</th>\n",
       "      <th>year ranges</th>\n",
       "    </tr>\n",
       "  </thead>\n",
       "  <tbody>\n",
       "    <tr>\n",
       "      <th>0</th>\n",
       "      <td>Dominican Republic</td>\n",
       "      <td>Central America &amp; Caribbean</td>\n",
       "      <td>1.0</td>\n",
       "      <td>(1965, 1970]</td>\n",
       "    </tr>\n",
       "    <tr>\n",
       "      <th>1</th>\n",
       "      <td>Mexico</td>\n",
       "      <td>North America</td>\n",
       "      <td>0.0</td>\n",
       "      <td>(1965, 1970]</td>\n",
       "    </tr>\n",
       "    <tr>\n",
       "      <th>2</th>\n",
       "      <td>Philippines</td>\n",
       "      <td>Southeast Asia</td>\n",
       "      <td>1.0</td>\n",
       "      <td>(1965, 1970]</td>\n",
       "    </tr>\n",
       "    <tr>\n",
       "      <th>3</th>\n",
       "      <td>Greece</td>\n",
       "      <td>Western Europe</td>\n",
       "      <td>NaN</td>\n",
       "      <td>(1965, 1970]</td>\n",
       "    </tr>\n",
       "    <tr>\n",
       "      <th>4</th>\n",
       "      <td>Japan</td>\n",
       "      <td>East Asia</td>\n",
       "      <td>NaN</td>\n",
       "      <td>(1965, 1970]</td>\n",
       "    </tr>\n",
       "  </tbody>\n",
       "</table>\n",
       "</div>"
      ],
      "text/plain": [
       "              country                       region  casualties   year ranges\n",
       "0  Dominican Republic  Central America & Caribbean         1.0  (1965, 1970]\n",
       "1              Mexico                North America         0.0  (1965, 1970]\n",
       "2         Philippines               Southeast Asia         1.0  (1965, 1970]\n",
       "3              Greece               Western Europe         NaN  (1965, 1970]\n",
       "4               Japan                    East Asia         NaN  (1965, 1970]"
      ]
     },
     "execution_count": 10,
     "metadata": {},
     "output_type": "execute_result"
    }
   ],
   "source": [
    "gtd_bubble = replace_series_with_range(gtd_bubble, gtd_bubble['year'], 5)\n",
    "gtd_bubble.head()"
   ]
  },
  {
   "cell_type": "code",
   "execution_count": 12,
   "metadata": {
    "collapsed": true
   },
   "outputs": [],
   "source": [
    "#Need to update dot plot with these functions"
   ]
  },
  {
   "cell_type": "code",
   "execution_count": 13,
   "metadata": {
    "collapsed": true
   },
   "outputs": [],
   "source": [
    "def group_by_columns(data, group_by_columns, column_to_agg):\n",
    "    '''Takes a list of column names and a column to count and counts rows by those column name, including nulls'''\n",
    "    all_columns = group_by_columns + [column_to_agg]\n",
    "    data.loc[:, column_to_agg] = data.loc[:, column_to_agg].fillna(value=0)\n",
    "    data = data.loc[:,all_columns]\n",
    "    grouped = data.groupby(group_by_columns)\n",
    "    return grouped"
   ]
  },
  {
   "cell_type": "code",
   "execution_count": 14,
   "metadata": {
    "collapsed": true
   },
   "outputs": [],
   "source": [
    "def sum_by_groups(grouped):\n",
    "    '''Takes output of group function and sums data'''\n",
    "    sums = grouped.sum().dropna()\n",
    "    sums.columns = ['sum']\n",
    "    return sums"
   ]
  },
  {
   "cell_type": "code",
   "execution_count": 15,
   "metadata": {
    "collapsed": true
   },
   "outputs": [],
   "source": [
    "def count_by_groups(grouped):\n",
    "    '''Takes output of group function and counts data'''\n",
    "    counts = grouped.count().dropna()\n",
    "    counts.columns = ['count']\n",
    "    return counts"
   ]
  },
  {
   "cell_type": "code",
   "execution_count": 16,
   "metadata": {
    "collapsed": false
   },
   "outputs": [],
   "source": [
    "#Need to deal with error handling for all this stuff\n",
    "class Bubble_Chart_Data():\n",
    "    def __init__(self, data, bubble_id, color, user_filter, values):\n",
    "        '''Defines attributes of the bubble chart'''\n",
    "        self.data = data\n",
    "        self.bubble_id = bubble_id\n",
    "        self.color = color\n",
    "        self.user_filter = user_filter\n",
    "        self.values = values\n",
    "        self.new_data = data\n",
    "        self.groups = group_by_columns(self.data, [self.bubble_id], self.values)\n",
    "        self.subgroups = group_by_columns(self.data, [self.bubble_id, self.color, self.user_filter], self.values)\n",
    "    \n",
    "    def count_by_subgroup(self):\n",
    "        '''Uses group from init function to create a count'''\n",
    "        return count_by_groups(self.subgroups)\n",
    "        \n",
    "    def sum_by_subgroup(self):\n",
    "        '''Uses sum from init function to create a sum'''\n",
    "        return sum_by_groups(self.subgroups)\n",
    "    \n",
    "    def aggregate_by_subgroup(self):\n",
    "        '''Returns sum and count merged together'''\n",
    "        self.new_data = pd.concat((self.count_by_subgroup(), self.sum_by_subgroup()), axis=1, join='outer')\n",
    "        self.new_data.columns = ['attacks', 'total ' + self.values]\n",
    "        self.new_data.reset_index(level=self.color, inplace=True)\n",
    "        \n",
    "    def count_by_group(self):\n",
    "        '''Returns the sum by groups (ignores user filters)'''\n",
    "        return count_by_groups(self.groups)\n",
    "    \n",
    "    def set_bubble_size(self, bubble_size, new_col_name):\n",
    "        '''bubble size must be a series with the bubble_id as the index'''\n",
    "        #want to be able to input a new column name when you do this\n",
    "        self.new_data = pd.DataFrame(bubble_size).join(self.new_data, how='inner')\n",
    "        #self.new_data.columns \n",
    "        self.bubble_size = new_col_name #currently assumes 1 column\n",
    "        \n",
    "    def add_color_dict(self):\n",
    "        '''Creates a dictionary that maps the color variable to numbers'''\n",
    "        #You can call this whenever without error, but once you aggregate again, the column will disappear\n",
    "        #http://stackoverflow.com/questions/14885895/color-by-column-values-in-matplotlib\n",
    "        color_cats = self.new_data[self.color].unique()\n",
    "        colors = np.linspace(0, 1, len(color_cats))\n",
    "        colordict = dict(zip(color_cats, colors))  \n",
    "        self.new_data['color'] = self.new_data[self.color].apply(lambda x: colordict[x])\n",
    "        \n",
    "    def filter_for_user(self, user_input):\n",
    "        '''Selects the part of the data that the user selected'''\n",
    "        #This assumes you've already run agg by bubbleID, should also handle key error\n",
    "        self.new_data = self.new_data.loc[(slice(None), user_input), :]"
   ]
  },
  {
   "cell_type": "code",
   "execution_count": 17,
   "metadata": {
    "collapsed": true
   },
   "outputs": [],
   "source": [
    "bubble_chart = Bubble_Chart_Data(gtd_bubble, 'country', 'region', 'year ranges', 'casualties')"
   ]
  },
  {
   "cell_type": "code",
   "execution_count": 18,
   "metadata": {
    "collapsed": true
   },
   "outputs": [],
   "source": [
    "bubble_chart.aggregate_by_subgroup()"
   ]
  },
  {
   "cell_type": "code",
   "execution_count": 19,
   "metadata": {
    "collapsed": false
   },
   "outputs": [],
   "source": [
    "bubble_chart.set_bubble_size(bubble_chart.count_by_group(), 'All-Time Attacks')"
   ]
  },
  {
   "cell_type": "code",
   "execution_count": 20,
   "metadata": {
    "collapsed": false
   },
   "outputs": [
    {
     "data": {
      "text/html": [
       "<div>\n",
       "<table border=\"1\" class=\"dataframe\">\n",
       "  <thead>\n",
       "    <tr style=\"text-align: right;\">\n",
       "      <th></th>\n",
       "      <th></th>\n",
       "      <th>count</th>\n",
       "      <th>region</th>\n",
       "      <th>attacks</th>\n",
       "      <th>total casualties</th>\n",
       "    </tr>\n",
       "    <tr>\n",
       "      <th>country</th>\n",
       "      <th>year ranges</th>\n",
       "      <th></th>\n",
       "      <th></th>\n",
       "      <th></th>\n",
       "      <th></th>\n",
       "    </tr>\n",
       "  </thead>\n",
       "  <tbody>\n",
       "    <tr>\n",
       "      <th rowspan=\"5\" valign=\"top\">Afghanistan</th>\n",
       "      <th>(1970, 1975]</th>\n",
       "      <td>9690</td>\n",
       "      <td>South Asia</td>\n",
       "      <td>1.0</td>\n",
       "      <td>0.0</td>\n",
       "    </tr>\n",
       "    <tr>\n",
       "      <th>(1975, 1980]</th>\n",
       "      <td>9690</td>\n",
       "      <td>South Asia</td>\n",
       "      <td>3.0</td>\n",
       "      <td>53.0</td>\n",
       "    </tr>\n",
       "    <tr>\n",
       "      <th>(1985, 1990]</th>\n",
       "      <td>9690</td>\n",
       "      <td>South Asia</td>\n",
       "      <td>24.0</td>\n",
       "      <td>150.0</td>\n",
       "    </tr>\n",
       "    <tr>\n",
       "      <th>(1990, 1995]</th>\n",
       "      <td>9690</td>\n",
       "      <td>South Asia</td>\n",
       "      <td>81.0</td>\n",
       "      <td>144.0</td>\n",
       "    </tr>\n",
       "    <tr>\n",
       "      <th>(1995, 2000]</th>\n",
       "      <td>9690</td>\n",
       "      <td>South Asia</td>\n",
       "      <td>29.0</td>\n",
       "      <td>120.0</td>\n",
       "    </tr>\n",
       "  </tbody>\n",
       "</table>\n",
       "</div>"
      ],
      "text/plain": [
       "                          count      region  attacks  total casualties\n",
       "country     year ranges                                               \n",
       "Afghanistan (1970, 1975]   9690  South Asia      1.0               0.0\n",
       "            (1975, 1980]   9690  South Asia      3.0              53.0\n",
       "            (1985, 1990]   9690  South Asia     24.0             150.0\n",
       "            (1990, 1995]   9690  South Asia     81.0             144.0\n",
       "            (1995, 2000]   9690  South Asia     29.0             120.0"
      ]
     },
     "execution_count": 20,
     "metadata": {},
     "output_type": "execute_result"
    }
   ],
   "source": [
    "bubble_chart.new_data.head()"
   ]
  },
  {
   "cell_type": "code",
   "execution_count": 21,
   "metadata": {
    "collapsed": false
   },
   "outputs": [],
   "source": [
    "def process_bubble_chart_data():\n",
    "    bubble_chart = Bubble_Chart_Data(gtd_bubble, 'country', 'region', 'year ranges', 'casualties')\n",
    "    bubble_chart.aggregate_by_subgroup()\n",
    "    bubble_chart.set_bubble_size(bubble_chart.count_by_group(), 'all-time attacks')\n",
    "    bubble_chart.add_color_dict()\n",
    "    return bubble_chart\n",
    "    \n",
    "def select_bubble_chart_year(year_range, bubble_chart):\n",
    "    bubble_chart.filter_for_user(year_range)\n",
    "    return bubble_chart\n"
   ]
  },
  {
   "cell_type": "code",
   "execution_count": 22,
   "metadata": {
    "collapsed": false
   },
   "outputs": [
    {
     "data": {
      "text/html": [
       "<div>\n",
       "<table border=\"1\" class=\"dataframe\">\n",
       "  <thead>\n",
       "    <tr style=\"text-align: right;\">\n",
       "      <th></th>\n",
       "      <th></th>\n",
       "      <th>count</th>\n",
       "      <th>region</th>\n",
       "      <th>attacks</th>\n",
       "      <th>total casualties</th>\n",
       "      <th>color</th>\n",
       "    </tr>\n",
       "    <tr>\n",
       "      <th>country</th>\n",
       "      <th>year ranges</th>\n",
       "      <th></th>\n",
       "      <th></th>\n",
       "      <th></th>\n",
       "      <th></th>\n",
       "      <th></th>\n",
       "    </tr>\n",
       "  </thead>\n",
       "  <tbody>\n",
       "    <tr>\n",
       "      <th>Afghanistan</th>\n",
       "      <th>(2010, 2015]</th>\n",
       "      <td>9690</td>\n",
       "      <td>South Asia</td>\n",
       "      <td>7077.0</td>\n",
       "      <td>20359.0</td>\n",
       "      <td>0.000000</td>\n",
       "    </tr>\n",
       "    <tr>\n",
       "      <th>Albania</th>\n",
       "      <th>(2010, 2015]</th>\n",
       "      <td>77</td>\n",
       "      <td>Eastern Europe</td>\n",
       "      <td>7.0</td>\n",
       "      <td>1.0</td>\n",
       "      <td>0.090909</td>\n",
       "    </tr>\n",
       "    <tr>\n",
       "      <th>Algeria</th>\n",
       "      <th>(2010, 2015]</th>\n",
       "      <td>2720</td>\n",
       "      <td>Middle East &amp; North Africa</td>\n",
       "      <td>107.0</td>\n",
       "      <td>214.0</td>\n",
       "      <td>0.181818</td>\n",
       "    </tr>\n",
       "    <tr>\n",
       "      <th>Argentina</th>\n",
       "      <th>(2010, 2015]</th>\n",
       "      <td>804</td>\n",
       "      <td>South America</td>\n",
       "      <td>6.0</td>\n",
       "      <td>0.0</td>\n",
       "      <td>0.545455</td>\n",
       "    </tr>\n",
       "    <tr>\n",
       "      <th>Armenia</th>\n",
       "      <th>(2010, 2015]</th>\n",
       "      <td>22</td>\n",
       "      <td>Central Asia</td>\n",
       "      <td>3.0</td>\n",
       "      <td>0.0</td>\n",
       "      <td>0.636364</td>\n",
       "    </tr>\n",
       "  </tbody>\n",
       "</table>\n",
       "</div>"
      ],
      "text/plain": [
       "                          count                      region  attacks  \\\n",
       "country     year ranges                                                \n",
       "Afghanistan (2010, 2015]   9690                  South Asia   7077.0   \n",
       "Albania     (2010, 2015]     77              Eastern Europe      7.0   \n",
       "Algeria     (2010, 2015]   2720  Middle East & North Africa    107.0   \n",
       "Argentina   (2010, 2015]    804               South America      6.0   \n",
       "Armenia     (2010, 2015]     22                Central Asia      3.0   \n",
       "\n",
       "                          total casualties     color  \n",
       "country     year ranges                               \n",
       "Afghanistan (2010, 2015]           20359.0  0.000000  \n",
       "Albania     (2010, 2015]               1.0  0.090909  \n",
       "Algeria     (2010, 2015]             214.0  0.181818  \n",
       "Argentina   (2010, 2015]               0.0  0.545455  \n",
       "Armenia     (2010, 2015]               0.0  0.636364  "
      ]
     },
     "execution_count": 22,
     "metadata": {},
     "output_type": "execute_result"
    }
   ],
   "source": [
    "bubble_chart = process_bubble_chart_data()\n",
    "\n",
    "bubble_chart = select_bubble_chart_year('(2010, 2015]', bubble_chart)\n",
    "\n",
    "bubble_chart.new_data.head()"
   ]
  },
  {
   "cell_type": "code",
   "execution_count": 23,
   "metadata": {
    "collapsed": false
   },
   "outputs": [],
   "source": [
    "def construct_interval(year):\n",
    "    return '('+ str(year - 5) + ', ' + str(year) + ']'"
   ]
  },
  {
   "cell_type": "code",
   "execution_count": 31,
   "metadata": {
    "collapsed": true
   },
   "outputs": [],
   "source": [
    "import seaborn as sns\n",
    "\n",
    "def create_bubble_chart(year):\n",
    "    \n",
    "    bubble_chart = process_bubble_chart_data()\n",
    "    \n",
    "    select_bubble_chart_year(construct_interval(year), bubble_chart)\n",
    "    \n",
    "    plt.figure()\n",
    "\n",
    "    plt.scatter(bubble_chart.new_data['attacks'], bubble_chart.new_data['total casualties'],bubble_chart.new_data['count']/10, c = bubble_chart.new_data['color'], alpha = 0.5)\n",
    "\n",
    "    plt.show()"
   ]
  },
  {
   "cell_type": "code",
   "execution_count": 32,
   "metadata": {
    "collapsed": false
   },
   "outputs": [
    {
     "data": {
      "text/plain": [
       "<matplotlib.figure.Figure at 0x22591ae1748>"
      ]
     },
     "metadata": {},
     "output_type": "display_data"
    },
    {
     "data": {
      "image/png": "[encoded data removed]",
      "text/plain": [
       "<matplotlib.figure.Figure at 0x22590dd7780>"
      ]
     },
     "metadata": {},
     "output_type": "display_data"
    }
   ],
   "source": [
    "create_bubble_chart(2005)"
   ]
  },
  {
   "cell_type": "code",
   "execution_count": 30,
   "metadata": {
    "collapsed": false
   },
   "outputs": [
    {
     "data": {
      "image/png": "[encoded data removed]",
      "text/plain": [
       "<matplotlib.figure.Figure at 0x22590ec6668>"
      ]
     },
     "metadata": {},
     "output_type": "display_data"
    }
   ],
   "source": [
    "interact(create_bubble_chart, year=widgets.IntSlider(min=1975,max=2015,step=5,value=2015))"
   ]
  },
  {
   "cell_type": "markdown",
   "metadata": {},
   "source": [
    "Also considered doing a bubble chart where the x axis is percentage change in # killed, y axis is percentage change in # attacks, and size of bubble is # incidents"
   ]
  },
  {
   "cell_type": "markdown",
   "metadata": {},
   "source": [
    "Next step might be scroll-over labels, b/c I think that would be really helpful"
   ]
  },
  {
   "cell_type": "code",
   "execution_count": 27,
   "metadata": {
    "collapsed": true
   },
   "outputs": [],
   "source": [
    "#this is useful in general, don't make it specific to bubble chart\n",
    "def create_total(to_sum, sum_by):\n",
    "    '''takes two series of the same length, sums one by the other, returns a series with the result'''\n",
    "    data = pd.concat([sum_by, to_sum], axis = 1)\n",
    "    totaled = pd.pivot_table(data, index = sum_by.name, aggfunc=sum)\n",
    "    totaled.columns = ['total ' + to_sum.name]\n",
    "    return pd.Series(totaled['total ' + to_sum.name])"
   ]
  }
 ],
 "metadata": {
  "anaconda-cloud": {},
  "kernelspec": {
   "display_name": "Python [Root]",
   "language": "python",
   "name": "Python [Root]"
  },
  "language_info": {
   "codemirror_mode": {
    "name": "ipython",
    "version": 3
   },
   "file_extension": ".py",
   "mimetype": "text/x-python",
   "name": "python",
   "nbconvert_exporter": "python",
   "pygments_lexer": "ipython3",
   "version": "3.5.2"
  }
 },
 "nbformat": 4,
 "nbformat_minor": 0
}
